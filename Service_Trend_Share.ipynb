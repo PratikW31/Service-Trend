{
 "cells": [
  {
   "cell_type": "code",
   "execution_count": 1,
   "id": "fe2197a0-09a6-4fc5-8d8e-7ca57fd48f19",
   "metadata": {},
   "outputs": [],
   "source": [
    "#pip install simple-salesforce python-decouple"
   ]
  },
  {
   "cell_type": "code",
   "execution_count": 1,
   "id": "491977c5-0404-4bc7-b9b8-56f9113cd4cd",
   "metadata": {},
   "outputs": [],
   "source": [
    "from simple_salesforce import Salesforce\n",
    "import requests\n",
    "import pandas as pd\n",
    "from io import StringIO\n",
    "import numpy as np\n",
    "import os\n",
    "from datetime import datetime"
   ]
  },
  {
   "cell_type": "code",
   "execution_count": 2,
   "id": "0f08d39c-d140-4b70-abbf-7ecaa65a92cf",
   "metadata": {},
   "outputs": [],
   "source": [
    "sf=Salesforce(username='bhaskar.hindurao@atomberg.com',password='Mumbai@2024',security_token='iNY2buqCTmsVXq2yx0mWXRY2')"
   ]
  },
  {
   "cell_type": "code",
   "execution_count": 3,
   "id": "a1c5894d-f314-4b07-a09e-5efaec0b35fe",
   "metadata": {},
   "outputs": [
    {
     "name": "stderr",
     "output_type": "stream",
     "text": [
      "C:\\Users\\Pratik Wable\\AppData\\Local\\Temp\\ipykernel_15116\\1226093586.py:7: DtypeWarning: Columns (15,35,36,37,38,39) have mixed types. Specify dtype option on import or set low_memory=False.\n",
      "  df1 = pd.read_csv(StringIO(download_report))\n"
     ]
    },
    {
     "name": "stdout",
     "output_type": "stream",
     "text": [
      "DataFrame saved to C:/Users/Pratik Wable/Desktop/AT_Office/Service Trend/ST_09-04-2024.csv\n"
     ]
    }
   ],
   "source": [
    "sf_instance = 'https://atombergtechnologiespvtltd2.my.salesforce.com/' #Your Salesforce Instance URL\n",
    "reportId = '00O2w00000En6wbEAB' # add report id\n",
    "export = '?isdtp=p1&export=1&enc=UTF-8&xf=csv'\n",
    "sfUrl = sf_instance + reportId + export\n",
    "response = requests.get(sfUrl, headers=sf.headers, cookies={'sid': sf.session_id})\n",
    "download_report = response.content.decode('utf-8')\n",
    "df1 = pd.read_csv(StringIO(download_report))\n",
    "\n",
    "# Get today's date in YYYY-MM-DD format\n",
    "today_date = datetime.today().strftime('%d-%m-%Y')\n",
    "\n",
    "# Append today's date to the file name\n",
    "csv_file_path = f'C:/Users/Pratik Wable/Desktop/AT_Office/Service Trend/ST_{today_date}.csv'\n",
    "df1.to_csv(csv_file_path, index=False)\n",
    "print(f\"DataFrame saved to {csv_file_path}\")\n"
   ]
  },
  {
   "cell_type": "code",
   "execution_count": 4,
   "id": "af2663d7-ed77-40c8-b7fa-c91bc19f1ff3",
   "metadata": {},
   "outputs": [
    {
     "name": "stderr",
     "output_type": "stream",
     "text": [
      "C:\\Users\\Pratik Wable\\AppData\\Local\\Temp\\ipykernel_15116\\896786507.py:9: DtypeWarning: Columns (15,35,36,37,38,39) have mixed types. Specify dtype option on import or set low_memory=False.\n",
      "  report = pd.read_csv(f'C:/Users/Pratik Wable/Desktop/AT_Office/Service Trend/ST_{today_date}.csv', encoding='latin1')\n"
     ]
    },
    {
     "name": "stdout",
     "output_type": "stream",
     "text": [
      "Filtered DataFrame saved to C:/Users/Pratik Wable/Desktop/AT_Office/Service Trend/Fake OP\\SSS.csv\n"
     ]
    }
   ],
   "source": [
    "import pandas as pd\n",
    "import os\n",
    "from datetime import datetime\n",
    "\n",
    "# Get today's date in YYYY-MM-DD format\n",
    "today_date = datetime.today().strftime('%d-%m-%Y')\n",
    "\n",
    "# Load the report file with 'latin1' encoding\n",
    "report = pd.read_csv(f'C:/Users/Pratik Wable/Desktop/AT_Office/Service Trend/ST_{today_date}.csv', encoding='latin1')\n",
    "'''report = pd.read_csv('C:/Users/Pratik Wable/Downloads/report1712569490900.csv', encoding='latin1')'''\n",
    "\n",
    "# Filter the 2nd 'Status' column to only include 'Completed', 'New', and 'On Hold' rows\n",
    "report['Status2'] = report['Status.1'].apply(lambda x: x if x in ['Completed', 'New', 'On Hold'] else None)\n",
    "\n",
    "# Filter the dataframe to include only rows where 'Status2' is not None\n",
    "filtered_report = report.dropna(subset=['Status2'])\n",
    "\n",
    "# Remove rows with 'WarpDrive Test ASP' in the 'ASP/Engineer Name' column\n",
    "filtered_report = filtered_report[filtered_report['ASP/Engineer Name'] != 'WarpDrive Test ASP']\n",
    "\n",
    "# Create the 'Fake OP' folder if it doesn't exist\n",
    "folder_path = 'C:/Users/Pratik Wable/Desktop/AT_Office/Service Trend/Fake OP'\n",
    "os.makedirs(folder_path, exist_ok=True)\n",
    "\n",
    "# Save the filtered data to a new CSV file named \"SSS.csv\" in the 'Fake OP' folder\n",
    "csv_path = os.path.join(folder_path, 'SSS.csv')\n",
    "filtered_report.to_csv(csv_path, index=False)\n",
    "\n",
    "print(f\"Filtered DataFrame saved to {csv_path}\")\n"
   ]
  },
  {
   "cell_type": "code",
   "execution_count": 9,
   "id": "5c5ec04f-f6b1-4f2a-a513-b80011181b39",
   "metadata": {},
   "outputs": [
    {
     "name": "stderr",
     "output_type": "stream",
     "text": [
      "C:\\Users\\Pratik Wable\\AppData\\Local\\Temp\\ipykernel_15116\\2825173606.py:2: DtypeWarning: Columns (35,36,37,38,39) have mixed types. Specify dtype option on import or set low_memory=False.\n",
      "  report = pd.read_csv('C:/Users/Pratik Wable/Desktop/AT_Office/Service Trend/Fake Op/SSS.csv')\n",
      "C:\\Users\\Pratik Wable\\AppData\\Local\\Temp\\ipykernel_15116\\2825173606.py:11: DtypeWarning: Columns (20) have mixed types. Specify dtype option on import or set low_memory=False.\n",
      "  pincode = pd.read_csv('C:/Users/Pratik Wable/Desktop/AT_Office/TAT_MAIN/Pincode.csv')\n"
     ]
    }
   ],
   "source": [
    "# Load the report file with the initial processing steps\n",
    "report = pd.read_csv('C:/Users/Pratik Wable/Desktop/AT_Office/Service Trend/Fake Op/SSS.csv')\n",
    "\n",
    "# Add 'Zone', 'State', and 'Cities' columns with blank values\n",
    "report['Zone'] = ''\n",
    "report['State'] = ''\n",
    "report['Cities'] = ''\n",
    "\n",
    "# Load the Zone and Pincode files\n",
    "zone = pd.read_csv('C:/Users/Pratik Wable/Desktop/AT_Office/TAT_MAIN/Zone.csv')\n",
    "pincode = pd.read_csv('C:/Users/Pratik Wable/Desktop/AT_Office/TAT_MAIN/Pincode.csv')\n",
    "\n",
    "# Perform VLOOKUP-like operations to fill in 'Zone', 'State', and 'Cities' columns\n",
    "for index, row in report.iterrows():\n",
    "    engineer_name = row['ASP/Engineer Name']\n",
    "    zip_code = row['Zip/Postal Code']\n",
    "    zone_row = zone[zone['ASP/Engineer Name'] == engineer_name]\n",
    "    if not zone_row.empty:\n",
    "        report.at[index, 'Zone'] = zone_row.iloc[0]['Zone']\n",
    "        report.at[index, 'State'] = zone_row.iloc[0]['State']\n",
    "        report.at[index, 'Cities'] = zone_row.iloc[0]['City']\n",
    "    else:\n",
    "        pincode_row = pincode[pincode['Zip/Postal Code'] == zip_code]\n",
    "        if not pincode_row.empty:\n",
    "            report.at[index, 'Zone'] = pincode_row.iloc[0]['Zone']\n",
    "            report.at[index, 'State'] = pincode_row.iloc[0]['State Name']\n",
    "            report.at[index, 'Cities'] = pincode_row.iloc[0]['Top Cities']\n",
    "\n",
    "# Copy 'Created Date' column data to 'C Date' column and format as '12-Mar-24'\n",
    "report['C Date'] = pd.to_datetime(report['WO Created Date'], format='%d/%m/%Y').dt.strftime('%d-%b-%y')\n",
    "\n",
    "# Copy 'End Date.1' column data to 'E Date' column and format as '12-Mar-24'\n",
    "report['E Date'] = pd.to_datetime(report['WOLI End Date'].astype('str').str.split(',').str[0], format='%d/%m/%Y').dt.strftime('%d-%b-%y')\n",
    "\n",
    "# Save the updated report file\n",
    "report.to_csv('C:/Users/Pratik Wable/Desktop/AT_Office/Service Trend/Fake OP/OP.csv', index=False)\n"
   ]
  },
  {
   "cell_type": "code",
   "execution_count": 10,
   "id": "7a9f25c6-831b-4c17-b928-5e249046e9f4",
   "metadata": {},
   "outputs": [
    {
     "name": "stderr",
     "output_type": "stream",
     "text": [
      "C:\\Users\\Pratik Wable\\AppData\\Local\\Temp\\ipykernel_15116\\2470917159.py:9: DtypeWarning: Columns (35,36,37,38,39) have mixed types. Specify dtype option on import or set low_memory=False.\n",
      "  st_data = pd.read_csv(st_file, encoding='latin1')\n"
     ]
    },
    {
     "data": {
      "text/html": [
       "<div>\n",
       "<style scoped>\n",
       "    .dataframe tbody tr th:only-of-type {\n",
       "        vertical-align: middle;\n",
       "    }\n",
       "\n",
       "    .dataframe tbody tr th {\n",
       "        vertical-align: top;\n",
       "    }\n",
       "\n",
       "    .dataframe thead th {\n",
       "        text-align: right;\n",
       "    }\n",
       "</style>\n",
       "<table border=\"1\" class=\"dataframe\">\n",
       "  <thead>\n",
       "    <tr style=\"text-align: right;\">\n",
       "      <th></th>\n",
       "      <th>Case Number</th>\n",
       "      <th>Work Order Line Item Number</th>\n",
       "      <th>Keys</th>\n",
       "      <th>CallCount</th>\n",
       "    </tr>\n",
       "  </thead>\n",
       "  <tbody>\n",
       "    <tr>\n",
       "      <th>0</th>\n",
       "      <td>930138</td>\n",
       "      <td>1</td>\n",
       "      <td>9301381</td>\n",
       "      <td>1</td>\n",
       "    </tr>\n",
       "    <tr>\n",
       "      <th>1</th>\n",
       "      <td>929386</td>\n",
       "      <td>1</td>\n",
       "      <td>9293861</td>\n",
       "      <td>1</td>\n",
       "    </tr>\n",
       "    <tr>\n",
       "      <th>2</th>\n",
       "      <td>927791</td>\n",
       "      <td>1</td>\n",
       "      <td>9277911</td>\n",
       "      <td>1</td>\n",
       "    </tr>\n",
       "    <tr>\n",
       "      <th>3</th>\n",
       "      <td>930121</td>\n",
       "      <td>5</td>\n",
       "      <td>9301215</td>\n",
       "      <td>1</td>\n",
       "    </tr>\n",
       "    <tr>\n",
       "      <th>4</th>\n",
       "      <td>926236</td>\n",
       "      <td>1</td>\n",
       "      <td>9262361</td>\n",
       "      <td>1</td>\n",
       "    </tr>\n",
       "    <tr>\n",
       "      <th>...</th>\n",
       "      <td>...</td>\n",
       "      <td>...</td>\n",
       "      <td>...</td>\n",
       "      <td>...</td>\n",
       "    </tr>\n",
       "    <tr>\n",
       "      <th>18989</th>\n",
       "      <td>927906</td>\n",
       "      <td>1</td>\n",
       "      <td>9279061</td>\n",
       "      <td>1</td>\n",
       "    </tr>\n",
       "    <tr>\n",
       "      <th>18990</th>\n",
       "      <td>927909</td>\n",
       "      <td>1</td>\n",
       "      <td>9279091</td>\n",
       "      <td>1</td>\n",
       "    </tr>\n",
       "    <tr>\n",
       "      <th>18991</th>\n",
       "      <td>927898</td>\n",
       "      <td>1</td>\n",
       "      <td>9278981</td>\n",
       "      <td>1</td>\n",
       "    </tr>\n",
       "    <tr>\n",
       "      <th>18992</th>\n",
       "      <td>927910</td>\n",
       "      <td>1</td>\n",
       "      <td>9279101</td>\n",
       "      <td>1</td>\n",
       "    </tr>\n",
       "    <tr>\n",
       "      <th>18993</th>\n",
       "      <td>927912</td>\n",
       "      <td>1</td>\n",
       "      <td>9279121</td>\n",
       "      <td>1</td>\n",
       "    </tr>\n",
       "  </tbody>\n",
       "</table>\n",
       "<p>18994 rows × 4 columns</p>\n",
       "</div>"
      ],
      "text/plain": [
       "       Case Number  Work Order Line Item Number     Keys  CallCount\n",
       "0           930138                            1  9301381          1\n",
       "1           929386                            1  9293861          1\n",
       "2           927791                            1  9277911          1\n",
       "3           930121                            5  9301215          1\n",
       "4           926236                            1  9262361          1\n",
       "...            ...                          ...      ...        ...\n",
       "18989       927906                            1  9279061          1\n",
       "18990       927909                            1  9279091          1\n",
       "18991       927898                            1  9278981          1\n",
       "18992       927910                            1  9279101          1\n",
       "18993       927912                            1  9279121          1\n",
       "\n",
       "[18994 rows x 4 columns]"
      ]
     },
     "execution_count": 10,
     "metadata": {},
     "output_type": "execute_result"
    }
   ],
   "source": [
    "import pandas as pd\n",
    "import numpy as np\n",
    "import shutil\n",
    "import os\n",
    "from datetime import datetime\n",
    "\n",
    "# Load the 'ST' file with 'latin1' encoding\n",
    "st_file = 'C:/Users/Pratik Wable/Desktop/AT_Office/Service Trend/Fake OP/OP.csv'\n",
    "st_data = pd.read_csv(st_file, encoding='latin1')\n",
    "\n",
    "# Create a new DataFrame with the specified columns\n",
    "ns = pd.DataFrame(columns=['Case Number', 'Work Order Line Item Number', 'Keys', 'CallCount'])\n",
    "\n",
    "# Copy data from 'Case Number' and 'Work Order Line Item Number' columns to the new DataFrame\n",
    "ns['Case Number'] = st_data['Case Number']\n",
    "ns['Work Order Line Item Number'] = st_data['Work Order Line Item Number']\n",
    "\n",
    "ns['Keys']=ns['Case Number'].astype(str) + ns['Work Order Line Item Number'].astype(str)\n",
    "ns['Keys'] = pd.to_numeric(ns['Keys'], errors='coerce')\n",
    "\n",
    "# Add a column for Serial Count\n",
    "ns['CallCount'] = ns.groupby('Keys').cumcount() + 1\n",
    "ns['CallCount'] = np.where(ns['CallCount'] == 1, 1, 0)\n",
    "\n",
    "# Copy the 'Callcount' column from the new sheet to the main sheet\n",
    "st_data['CallCount'] = ns['CallCount']\n",
    "\n",
    "# Save both main and new sheet in the same Excel file\n",
    "today_date = datetime.today().strftime('%d-%m-%Y')\n",
    "excel_file = f'C:/Users/Pratik Wable/Desktop/AT_Office/Service Trend/CRM_DATA_AS_ON_{today_date}.xlsx'\n",
    "with pd.ExcelWriter(excel_file) as writer:\n",
    "    # Write the main sheet\n",
    "    st_data.to_excel(writer, sheet_name='Main', index=False)\n",
    "    \n",
    "    # Write the new sheet\n",
    "    ns.to_excel(writer, sheet_name='New Sheet', index=False)\n",
    "\n",
    "# Delete the 'Fake OP' folder and its contents\n",
    "shutil.rmtree('C:/Users/Pratik Wable/Desktop/AT_Office/Service Trend/Fake OP')\n",
    "\n",
    "# Display the new sheet data\n",
    "ns"
   ]
  },
  {
   "cell_type": "code",
   "execution_count": null,
   "id": "504a3b83-bd76-4625-aa76-949f38579762",
   "metadata": {},
   "outputs": [],
   "source": []
  }
 ],
 "metadata": {
  "kernelspec": {
   "display_name": "Python 3 (ipykernel)",
   "language": "python",
   "name": "python3"
  },
  "language_info": {
   "codemirror_mode": {
    "name": "ipython",
    "version": 3
   },
   "file_extension": ".py",
   "mimetype": "text/x-python",
   "name": "python",
   "nbconvert_exporter": "python",
   "pygments_lexer": "ipython3",
   "version": "3.11.7"
  }
 },
 "nbformat": 4,
 "nbformat_minor": 5
}
